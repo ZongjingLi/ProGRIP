{
 "cells": [
  {
   "cell_type": "code",
   "execution_count": 1,
   "metadata": {},
   "outputs": [
    {
     "name": "stderr",
     "output_type": "stream",
     "text": [
      "/Users/melkor/miniforge3/envs/Morgoth/lib/python3.8/site-packages/tqdm/auto.py:22: TqdmWarning: IProgress not found. Please update jupyter and ipywidgets. See https://ipywidgets.readthedocs.io/en/stable/user_install.html\n",
      "  from .autonotebook import tqdm as notebook_tqdm\n"
     ]
    }
   ],
   "source": [
    "import torch\n",
    "import torch.nn as  nn"
   ]
  },
  {
   "cell_type": "code",
   "execution_count": 2,
   "metadata": {},
   "outputs": [],
   "source": [
    "transformer_model = nn.Transformer(nhead=16, num_encoder_layers=12,d_model = 256,batch_first = True)\n",
    "src = torch.rand((32,10,256))\n",
    "tgt = torch.rand((32,20,256))\n",
    "out = transformer_model(src, tgt)"
   ]
  },
  {
   "cell_type": "code",
   "execution_count": 16,
   "metadata": {},
   "outputs": [
    {
     "name": "stdout",
     "output_type": "stream",
     "text": [
      "torch.Size([32, 20, 256])\n",
      "box scale: torch.Size([2, 14, 3])\n",
      "box rot: torch.Size([2, 14, 3, 3])\n",
      "box shift: torch.Size([2, 14, 3])\n",
      "box exist: torch.Size([2, 14, 1])\n"
     ]
    }
   ],
   "source": [
    "print(out.shape)\n",
    "from cuboid.network import Network_Whole\n",
    "\n",
    "import json\n",
    "\n",
    "root = \"/Users/melkor/Documents/GitHub/ProGRIP/cuboid/PretrainModels/table\"\n",
    "with open(root+ '/hypara.json') as f:\n",
    "    hypara = json.load(f) \n",
    "\n",
    "device = \"cuda:0\" if torch.cuda.is_available() else \"cpu\"\n",
    "\n",
    "net = Network_Whole(hypara)\n",
    "net.load_state_dict(torch.load(root + \"/table.pth\",map_location = device))\n",
    "\n",
    "pc = torch.randn([2,300,3])\n",
    "\n",
    "outputs = net(pc)\n",
    "\n",
    "scale = outputs[\"scale\"]\n",
    "rot = outputs[\"rotate\"]\n",
    "shift = outputs[\"trans\"]\n",
    "exist = outputs[\"exist\"]\n",
    "\n",
    "print(\"box scale:\",scale.shape)\n",
    "print(\"box rot:\",rot.shape)\n",
    "print(\"box shift:\",shift.shape)\n",
    "print(\"box exist:\",exist.shape)\n"
   ]
  }
 ],
 "metadata": {
  "interpreter": {
   "hash": "15bba2aafe3530d476126b8e33ff856394024903303683733aa4f23028b7c3a9"
  },
  "kernelspec": {
   "display_name": "Python 3.9.7 64-bit ('anaconda3')",
   "language": "python",
   "name": "python3"
  },
  "language_info": {
   "codemirror_mode": {
    "name": "ipython",
    "version": 3
   },
   "file_extension": ".py",
   "mimetype": "text/x-python",
   "name": "python",
   "nbconvert_exporter": "python",
   "pygments_lexer": "ipython3",
   "version": "3.8.15"
  },
  "orig_nbformat": 4
 },
 "nbformat": 4,
 "nbformat_minor": 2
}
